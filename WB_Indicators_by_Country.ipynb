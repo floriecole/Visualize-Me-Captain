{
 "cells": [
  {
   "cell_type": "code",
   "execution_count": 1,
   "metadata": {},
   "outputs": [],
   "source": [
    "# Dependencies and Setup\n",
    "import pandas as pd\n",
    "import numpy as np\n",
    "from sqlalchemy import create_engine, Column, Integer, String, Float\n",
    "import pymysql\n",
    "pymysql.install_as_MySQLdb()\n",
    "from sqlalchemy.ext.declarative import declarative_base\n",
    "Base = declarative_base()"
   ]
  },
  {
   "cell_type": "code",
   "execution_count": 8,
   "metadata": {},
   "outputs": [
    {
     "data": {
      "text/html": [
       "<div>\n",
       "<table border=\"1\" class=\"dataframe\">\n",
       "  <thead>\n",
       "    <tr style=\"text-align: right;\">\n",
       "      <th></th>\n",
       "      <th>country</th>\n",
       "      <th>indicator</th>\n",
       "      <th>percent</th>\n",
       "      <th>year</th>\n",
       "    </tr>\n",
       "  </thead>\n",
       "  <tbody>\n",
       "    <tr>\n",
       "      <th>0</th>\n",
       "      <td>Kenya</td>\n",
       "      <td>GDP growth (annual %)</td>\n",
       "      <td>6.319781</td>\n",
       "      <td>2018</td>\n",
       "    </tr>\n",
       "    <tr>\n",
       "      <th>1</th>\n",
       "      <td>Kenya</td>\n",
       "      <td>GDP growth (annual %)</td>\n",
       "      <td>4.862538</td>\n",
       "      <td>2017</td>\n",
       "    </tr>\n",
       "    <tr>\n",
       "      <th>2</th>\n",
       "      <td>Kenya</td>\n",
       "      <td>GDP growth (annual %)</td>\n",
       "      <td>5.878949</td>\n",
       "      <td>2016</td>\n",
       "    </tr>\n",
       "    <tr>\n",
       "      <th>3</th>\n",
       "      <td>Kenya</td>\n",
       "      <td>GDP growth (annual %)</td>\n",
       "      <td>5.718507</td>\n",
       "      <td>2015</td>\n",
       "    </tr>\n",
       "    <tr>\n",
       "      <th>4</th>\n",
       "      <td>Kenya</td>\n",
       "      <td>GDP growth (annual %)</td>\n",
       "      <td>5.357126</td>\n",
       "      <td>2014</td>\n",
       "    </tr>\n",
       "  </tbody>\n",
       "</table>\n",
       "</div>"
      ],
      "text/plain": [
       "  country              indicator   percent  year\n",
       "0   Kenya  GDP growth (annual %)  6.319781  2018\n",
       "1   Kenya  GDP growth (annual %)  4.862538  2017\n",
       "2   Kenya  GDP growth (annual %)  5.878949  2016\n",
       "3   Kenya  GDP growth (annual %)  5.718507  2015\n",
       "4   Kenya  GDP growth (annual %)  5.357126  2014"
      ]
     },
     "execution_count": 8,
     "metadata": {},
     "output_type": "execute_result"
    }
   ],
   "source": [
    "# Import the data into a Pandas DataFrame\n",
    "gdp_df = pd.read_csv(\"Resources/csv/gdp_growth.csv\")\n",
    "gdp_df.head()"
   ]
  },
  {
   "cell_type": "code",
   "execution_count": 10,
   "metadata": {},
   "outputs": [
    {
     "data": {
      "text/html": [
       "<div>\n",
       "<table border=\"1\" class=\"dataframe\">\n",
       "  <thead>\n",
       "    <tr style=\"text-align: right;\">\n",
       "      <th></th>\n",
       "      <th>country</th>\n",
       "      <th>indicator</th>\n",
       "      <th>percent</th>\n",
       "      <th>year</th>\n",
       "    </tr>\n",
       "  </thead>\n",
       "  <tbody>\n",
       "    <tr>\n",
       "      <th>0</th>\n",
       "      <td>Kenya</td>\n",
       "      <td>High-technology exports (% of manufactured exp...</td>\n",
       "      <td>3.154125</td>\n",
       "      <td>2017</td>\n",
       "    </tr>\n",
       "    <tr>\n",
       "      <th>1</th>\n",
       "      <td>Kenya</td>\n",
       "      <td>High-technology exports (% of manufactured exp...</td>\n",
       "      <td>3.758604</td>\n",
       "      <td>2013</td>\n",
       "    </tr>\n",
       "    <tr>\n",
       "      <th>2</th>\n",
       "      <td>Kenya</td>\n",
       "      <td>High-technology exports (% of manufactured exp...</td>\n",
       "      <td>5.699216</td>\n",
       "      <td>2010</td>\n",
       "    </tr>\n",
       "    <tr>\n",
       "      <th>3</th>\n",
       "      <td>Kenya</td>\n",
       "      <td>High-technology exports (% of manufactured exp...</td>\n",
       "      <td>5.310636</td>\n",
       "      <td>2009</td>\n",
       "    </tr>\n",
       "    <tr>\n",
       "      <th>4</th>\n",
       "      <td>Kenya</td>\n",
       "      <td>High-technology exports (% of manufactured exp...</td>\n",
       "      <td>4.150340</td>\n",
       "      <td>2008</td>\n",
       "    </tr>\n",
       "  </tbody>\n",
       "</table>\n",
       "</div>"
      ],
      "text/plain": [
       "  country                                          indicator   percent  year\n",
       "0   Kenya  High-technology exports (% of manufactured exp...  3.154125  2017\n",
       "1   Kenya  High-technology exports (% of manufactured exp...  3.758604  2013\n",
       "2   Kenya  High-technology exports (% of manufactured exp...  5.699216  2010\n",
       "3   Kenya  High-technology exports (% of manufactured exp...  5.310636  2009\n",
       "4   Kenya  High-technology exports (% of manufactured exp...  4.150340  2008"
      ]
     },
     "execution_count": 10,
     "metadata": {},
     "output_type": "execute_result"
    }
   ],
   "source": [
    "tech_df = pd.read_csv(\"Resources/csv/tech_exports.csv\")\n",
    "tech_df.head()"
   ]
  },
  {
   "cell_type": "code",
   "execution_count": 11,
   "metadata": {},
   "outputs": [
    {
     "data": {
      "text/html": [
       "<div>\n",
       "<table border=\"1\" class=\"dataframe\">\n",
       "  <thead>\n",
       "    <tr style=\"text-align: right;\">\n",
       "      <th></th>\n",
       "      <th>country</th>\n",
       "      <th>indicator</th>\n",
       "      <th>age</th>\n",
       "      <th>year</th>\n",
       "    </tr>\n",
       "  </thead>\n",
       "  <tbody>\n",
       "    <tr>\n",
       "      <th>0</th>\n",
       "      <td>Kenya</td>\n",
       "      <td>Life expectancy at birth, total (years)</td>\n",
       "      <td>67.291</td>\n",
       "      <td>2017</td>\n",
       "    </tr>\n",
       "    <tr>\n",
       "      <th>1</th>\n",
       "      <td>Kenya</td>\n",
       "      <td>Life expectancy at birth, total (years)</td>\n",
       "      <td>67.032</td>\n",
       "      <td>2016</td>\n",
       "    </tr>\n",
       "    <tr>\n",
       "      <th>2</th>\n",
       "      <td>Kenya</td>\n",
       "      <td>Life expectancy at birth, total (years)</td>\n",
       "      <td>66.695</td>\n",
       "      <td>2015</td>\n",
       "    </tr>\n",
       "    <tr>\n",
       "      <th>3</th>\n",
       "      <td>Kenya</td>\n",
       "      <td>Life expectancy at birth, total (years)</td>\n",
       "      <td>66.242</td>\n",
       "      <td>2014</td>\n",
       "    </tr>\n",
       "    <tr>\n",
       "      <th>4</th>\n",
       "      <td>Kenya</td>\n",
       "      <td>Life expectancy at birth, total (years)</td>\n",
       "      <td>65.651</td>\n",
       "      <td>2013</td>\n",
       "    </tr>\n",
       "  </tbody>\n",
       "</table>\n",
       "</div>"
      ],
      "text/plain": [
       "  country                                indicator     age  year\n",
       "0   Kenya  Life expectancy at birth, total (years)  67.291  2017\n",
       "1   Kenya  Life expectancy at birth, total (years)  67.032  2016\n",
       "2   Kenya  Life expectancy at birth, total (years)  66.695  2015\n",
       "3   Kenya  Life expectancy at birth, total (years)  66.242  2014\n",
       "4   Kenya  Life expectancy at birth, total (years)  65.651  2013"
      ]
     },
     "execution_count": 11,
     "metadata": {},
     "output_type": "execute_result"
    }
   ],
   "source": [
    "life_df = pd.read_csv(\"Resources/csv/life_expectancy.csv\")\n",
    "life_df.head()"
   ]
  },
  {
   "cell_type": "code",
   "execution_count": 12,
   "metadata": {},
   "outputs": [],
   "source": [
    "engine = create_engine(f'sqlite:///indicators_project.sqlite')"
   ]
  },
  {
   "cell_type": "code",
   "execution_count": 13,
   "metadata": {},
   "outputs": [],
   "source": [
    "from sqlalchemy.orm import Session\n",
    "session = Session(bind=engine)"
   ]
  },
  {
   "cell_type": "code",
   "execution_count": 14,
   "metadata": {},
   "outputs": [],
   "source": [
    "class GDPGrowth(Base):\n",
    "    __tablename__ = 'GDPGrowth'\n",
    "    id = Column(Integer, primary_key=True)\n",
    "    country = Column(String(255))\n",
    "    indicator = Column(String(255))\n",
    "    percent = Column(Integer)\n",
    "    year = Column(Integer)"
   ]
  },
  {
   "cell_type": "code",
   "execution_count": 15,
   "metadata": {},
   "outputs": [],
   "source": [
    "class TechExports(Base):\n",
    "    __tablename__ = 'TechExports'\n",
    "    id = Column(Integer, primary_key=True)\n",
    "    country = Column(String(255))\n",
    "    indicator = Column(String(255))\n",
    "    percent = Column(Integer)\n",
    "    year = Column(Integer)"
   ]
  },
  {
   "cell_type": "code",
   "execution_count": 16,
   "metadata": {},
   "outputs": [],
   "source": [
    "class LifeExpectancy(Base):\n",
    "    __tablename__ = 'LifeExpectancy'\n",
    "    id = Column(Integer, primary_key=True)\n",
    "    country = Column(String(255))\n",
    "    indicator = Column(String(255))\n",
    "    age = Column(Integer)\n",
    "    year = Column(Integer)"
   ]
  },
  {
   "cell_type": "code",
   "execution_count": 17,
   "metadata": {},
   "outputs": [],
   "source": [
    "conn = engine.connect()\n",
    "Base.metadata.create_all(conn)"
   ]
  },
  {
   "cell_type": "code",
   "execution_count": 18,
   "metadata": {},
   "outputs": [],
   "source": [
    "for index, item in gdp_df.iterrows():\n",
    "    gdp = GDPGrowth(\n",
    "        country=item['country'],\n",
    "        indicator=item['indicator'],\n",
    "        percent=item['percent'],\n",
    "        year=item['year'],\n",
    "    )\n",
    "    session.add(gdp)\n",
    "    session.commit()"
   ]
  },
  {
   "cell_type": "code",
   "execution_count": 19,
   "metadata": {},
   "outputs": [],
   "source": [
    "for index, item in tech_df.iterrows():\n",
    "    tech = TechExports(\n",
    "        country=item['country'],\n",
    "        indicator=item['indicator'],\n",
    "        percent=item['percent'],\n",
    "        year=item['year'],\n",
    "    )\n",
    "    session.add(tech)\n",
    "    session.commit()"
   ]
  },
  {
   "cell_type": "code",
   "execution_count": 20,
   "metadata": {},
   "outputs": [],
   "source": [
    "for index, item in life_df.iterrows():\n",
    "    life = LifeExpectancy(\n",
    "        country=item['country'],\n",
    "        indicator=item['indicator'],\n",
    "        age=item['age'],\n",
    "        year=item['year'],\n",
    "    )\n",
    "    session.add(life)\n",
    "    session.commit()"
   ]
  },
  {
   "cell_type": "code",
   "execution_count": null,
   "metadata": {},
   "outputs": [],
   "source": []
  }
 ],
 "metadata": {
  "kernelspec": {
   "display_name": "Python 3",
   "language": "python",
   "name": "python3"
  },
  "language_info": {
   "codemirror_mode": {
    "name": "ipython",
    "version": 3
   },
   "file_extension": ".py",
   "mimetype": "text/x-python",
   "name": "python",
   "nbconvert_exporter": "python",
   "pygments_lexer": "ipython3",
   "version": "3.6.7"
  },
  "toc": {
   "colors": {
    "hover_highlight": "#DAA520",
    "running_highlight": "#FF0000",
    "selected_highlight": "#FFD700"
   },
   "moveMenuLeft": true,
   "nav_menu": {
    "height": "12px",
    "width": "252px"
   },
   "navigate_menu": true,
   "number_sections": true,
   "sideBar": true,
   "threshold": 4,
   "toc_cell": false,
   "toc_section_display": "block",
   "toc_window_display": false
  }
 },
 "nbformat": 4,
 "nbformat_minor": 2
}
